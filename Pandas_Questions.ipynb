{
  "nbformat": 4,
  "nbformat_minor": 0,
  "metadata": {
    "colab": {
      "provenance": [],
      "include_colab_link": true
    },
    "kernelspec": {
      "name": "python3",
      "display_name": "Python 3"
    },
    "language_info": {
      "name": "python"
    }
  },
  "cells": [
    {
      "cell_type": "markdown",
      "metadata": {
        "id": "view-in-github",
        "colab_type": "text"
      },
      "source": [
        "<a href=\"https://colab.research.google.com/github/KiroSafwat/pandas/blob/main/Pandas_Questions.ipynb\" target=\"_parent\"><img src=\"https://colab.research.google.com/assets/colab-badge.svg\" alt=\"Open In Colab\"/></a>"
      ]
    },
    {
      "cell_type": "markdown",
      "source": [
        "# 🐼 Pandas Practice: DataFrames, Selection, Mapping, and More\n"
      ],
      "metadata": {
        "id": "ePeg5X6c1i76"
      }
    },
    {
      "cell_type": "code",
      "source": [
        "import pandas as pd\n",
        "import numpy as np\n",
        "\n",
        "# Set seed for reproducibility\n",
        "np.random.seed(42)\n",
        "\n",
        "# Sample data\n",
        "names = ['Alice', 'Bob', 'Charlie', 'Diana', 'Ethan', 'Fiona', 'George', 'Hannah']\n",
        "departments = ['Sales', 'Marketing', 'HR', 'Tech']\n",
        "\n",
        "# Create a DataFrame\n",
        "df = pd.DataFrame({\n",
        "    'Name': np.random.choice(names, size=20),\n",
        "    'Age': np.random.randint(22, 60, size=20),\n",
        "    'Department': np.random.choice(departments, size=20),\n",
        "    'Salary': np.random.randint(40000, 120000, size=20),\n",
        "    'YearsExperience': np.random.randint(0, 20, size=20)\n",
        "})\n",
        "df.head()"
      ],
      "metadata": {
        "id": "OTuYqCvk15t6"
      },
      "execution_count": null,
      "outputs": []
    },
    {
      "cell_type": "markdown",
      "source": [
        "# 🧪 PRACTICE QUESTIONS BELOW\n",
        "\n",
        "\n",
        "# 1️⃣ Use .loc to select all rows where the Department is 'Tech'.\n",
        "#    - Describe what .loc does and why it's useful for label-based filtering.\n"
      ],
      "metadata": {
        "id": "COOLrDWX14rD"
      }
    },
    {
      "cell_type": "code",
      "source": [],
      "metadata": {
        "id": "xIuTOcDb2ebZ"
      },
      "execution_count": null,
      "outputs": []
    },
    {
      "cell_type": "markdown",
      "source": [
        "\n",
        "# 2️⃣ Use .iloc to select the first 5 rows and the last two columns.\n",
        "#    - What is the difference between .loc and .iloc?\n"
      ],
      "metadata": {
        "id": "RmHzXmu318u0"
      }
    },
    {
      "cell_type": "code",
      "source": [],
      "metadata": {
        "id": "3ahySeue2fCn"
      },
      "execution_count": null,
      "outputs": []
    },
    {
      "cell_type": "markdown",
      "source": [
        "\n",
        "# 3️⃣ Map a new column called 'DeptCode' where:\n",
        "#     'Sales' -> 1, 'Marketing' -> 2, 'HR' -> 3, 'Tech' -> 4.\n",
        "#    - Use .map and explain what happens if a value is not mapped.\n"
      ],
      "metadata": {
        "id": "36156bFO198O"
      }
    },
    {
      "cell_type": "code",
      "source": [],
      "metadata": {
        "id": "vGfO663F2gEV"
      },
      "execution_count": null,
      "outputs": []
    },
    {
      "cell_type": "markdown",
      "source": [
        "\n",
        "# 4️⃣ Use .apply to calculate a new column 'Seniority' where:\n",
        "#     - If YearsExperience > 10 → 'Senior'\n",
        "#     - If between 5-10 → 'Mid-Level'\n",
        "#     - Else → 'Junior'\n",
        "#    - Use a lambda function with apply.\n"
      ],
      "metadata": {
        "id": "F4UBD8S-1_ds"
      }
    },
    {
      "cell_type": "code",
      "source": [],
      "metadata": {
        "id": "PC6O6UWa2gq5"
      },
      "execution_count": null,
      "outputs": []
    },
    {
      "cell_type": "markdown",
      "source": [
        "\n",
        "# 5️⃣ Overwrite all salaries for employees with < 3 years of experience to 35000.\n",
        "#    - Use boolean indexing with .loc to do this.\n"
      ],
      "metadata": {
        "id": "9IsCMyfi2BkI"
      }
    },
    {
      "cell_type": "code",
      "source": [],
      "metadata": {
        "id": "U96LSSlv2h04"
      },
      "execution_count": null,
      "outputs": []
    },
    {
      "cell_type": "markdown",
      "source": [
        "\n",
        "# 6️⃣ Compare using .loc and .iloc to select the same row:\n",
        "#    - Select the 3rd row using .iloc\n",
        "#    - Find its index value and use .loc to select the same row by label\n"
      ],
      "metadata": {
        "id": "xmIKaXDH2CwE"
      }
    },
    {
      "cell_type": "code",
      "source": [],
      "metadata": {
        "id": "7Y4VrlBn2igs"
      },
      "execution_count": null,
      "outputs": []
    },
    {
      "cell_type": "markdown",
      "source": [
        "\n",
        "# 7️⃣ Check if there are any duplicate names in the dataset.\n",
        "#    - If there are, show only those duplicated rows.\n"
      ],
      "metadata": {
        "id": "lVu_9fuR2EoF"
      }
    },
    {
      "cell_type": "code",
      "source": [],
      "metadata": {
        "id": "1q6SQHhH2jMu"
      },
      "execution_count": null,
      "outputs": []
    },
    {
      "cell_type": "markdown",
      "source": [
        "\n",
        "# 8️⃣ Sort the DataFrame by Salary in descending order.\n",
        "#    - Then sort it by Department and within Department by Age.\n"
      ],
      "metadata": {
        "id": "1zeHaO1p2Gy2"
      }
    },
    {
      "cell_type": "code",
      "source": [],
      "metadata": {
        "id": "MatI2IZe2j-z"
      },
      "execution_count": null,
      "outputs": []
    },
    {
      "cell_type": "markdown",
      "source": [
        "\n",
        "# 9️⃣ Slice the DataFrame to return rows 5 through 12 and columns 'Name', 'Salary'\n",
        "#    - Try slicing using both label-based and position-based methods.\n"
      ],
      "metadata": {
        "id": "HXwU6hTb2Ksv"
      }
    },
    {
      "cell_type": "code",
      "source": [],
      "metadata": {
        "id": "wqOj-pOH2kmd"
      },
      "execution_count": null,
      "outputs": []
    },
    {
      "cell_type": "markdown",
      "source": [
        "\n",
        "# 🔟 Find all rows where the name starts with 'A' or 'D'.\n",
        "#    - Use string methods with .str accessor.\n"
      ],
      "metadata": {
        "id": "wF8r5U8G2MAq"
      }
    },
    {
      "cell_type": "code",
      "source": [],
      "metadata": {
        "id": "NYqLXs_e2lsl"
      },
      "execution_count": null,
      "outputs": []
    },
    {
      "cell_type": "markdown",
      "source": [
        "\n",
        "# 1️⃣1️⃣ Drop all rows where Age is below 25.\n",
        "#     - Explain whether this modifies the DataFrame in place or returns a copy.\n"
      ],
      "metadata": {
        "id": "Yd_SkvsI2Nvn"
      }
    },
    {
      "cell_type": "code",
      "source": [],
      "metadata": {
        "id": "EgrbPKED2ny5"
      },
      "execution_count": null,
      "outputs": []
    },
    {
      "cell_type": "markdown",
      "source": [
        "\n",
        "# 1️⃣2️⃣ Use groupby to calculate the average salary per Department.\n",
        "#     - Bonus: Show the average age and average experience too.\n"
      ],
      "metadata": {
        "id": "bfp6LIa12PkV"
      }
    },
    {
      "cell_type": "code",
      "source": [],
      "metadata": {
        "id": "o6DWFvRw2onl"
      },
      "execution_count": null,
      "outputs": []
    },
    {
      "cell_type": "markdown",
      "source": [
        "\n",
        "# 1️⃣3️⃣ Use groupby to count how many employees are in each Department.\n"
      ],
      "metadata": {
        "id": "44jsni7P2Qqy"
      }
    },
    {
      "cell_type": "code",
      "source": [],
      "metadata": {
        "id": "5EEXf1WK2pKX"
      },
      "execution_count": null,
      "outputs": []
    },
    {
      "cell_type": "markdown",
      "source": [
        "\n",
        "# 1️⃣4️⃣ Use .apply to normalize the Salary column (min-max scaling between 0 and 1).\n",
        "#     - Bonus: Write your own normalization function and pass it to apply.\n"
      ],
      "metadata": {
        "id": "9guz71AU2R0R"
      }
    },
    {
      "cell_type": "code",
      "source": [],
      "metadata": {
        "id": "Dwh1lczW2qKa"
      },
      "execution_count": null,
      "outputs": []
    },
    {
      "cell_type": "markdown",
      "source": [
        "\n",
        "# 1️⃣5️⃣ Use boolean indexing to find all employees who:\n",
        "#     - Are in 'HR' OR 'Tech', AND have > 5 years of experience.\n",
        "\n",
        "# 🔁 For many of these tasks, try both .loc and .iloc to build intuition on their differences.\n",
        "\n"
      ],
      "metadata": {
        "id": "r8GSudrV2VRt"
      }
    },
    {
      "cell_type": "code",
      "source": [],
      "metadata": {
        "id": "ClYGZE4C2rzJ"
      },
      "execution_count": null,
      "outputs": []
    }
  ]
}